{
 "cells": [
  {
   "cell_type": "code",
   "execution_count": 1,
   "metadata": {},
   "outputs": [],
   "source": [
    "import pandas as pd\n",
    "pd.options.mode.chained_assignment = None  # default='warn'\n",
    "import numpy as np"
   ]
  },
  {
   "cell_type": "code",
   "execution_count": 2,
   "metadata": {},
   "outputs": [],
   "source": [
    "data_train = pd.read_csv(r'..\\data\\train\\data-fulltext-train.csv')\n",
    "data_test = pd.read_csv(r'..\\data\\test\\data-test.csv')\n",
    "\n",
    "data_train.abstract = data_train.abstract.astype(str)\n",
    "data_train.journal = data_train.journal.astype(str)\n",
    "data_test.abstract = data_test.abstract.astype(str)\n",
    "data_test.journal = data_test.journal.astype(str)"
   ]
  },
  {
   "cell_type": "markdown",
   "metadata": {},
   "source": [
    "MRR"
   ]
  },
  {
   "cell_type": "code",
   "execution_count": 3,
   "metadata": {},
   "outputs": [],
   "source": [
    "def MRR(preds, truths, n,labels):\n",
    "    #print(preds)\n",
    "    #print(np.argsort(preds))\n",
    "    best_n = np.argsort(preds, axis=1)[:,-n:] #mejores items\n",
    "    #print(preds.shape, truths.shape)\n",
    "    #print(best_n,\"-----\",truths)\n",
    "    #ts = np.argmax(truths, axis=1)\n",
    "     \n",
    "    if (preds.shape[1]<n):\n",
    "        total =  preds.shape[1]-1\n",
    "        #print(\"TTT\",total-1)\n",
    "        #print(ts)\n",
    "    else:\n",
    "        total = n\n",
    "\n",
    "    successes = 0\n",
    "\n",
    "    for i in range(len(truths)):\n",
    "        indice = np.where(labels==truths[i])[0]\n",
    "        #print( \"i \",i, \"= \",truths[i], \" indice \", indice, \"---- \",best_n[i])\n",
    "        #print(best_n[i,:],  \"-- \",indice)\n",
    "        #print(\" pos\",pos, \" \",len(pos))\n",
    "\n",
    "        if indice in best_n[i]:\n",
    "            pos = np.where(best_n[i]==indice)\n",
    "            #print(pos[0],\" \",total,\" val \",1.0/(total-pos[0]+1))\n",
    "            successes += 1.0/(total-pos[0])\n",
    "            \n",
    "    #print(successes, \"xxx\", truths.shape[0])\n",
    "    return float(successes)/len(truths)"
   ]
  },
  {
   "cell_type": "markdown",
   "metadata": {},
   "source": [
    "Vectorizado TF-IDF"
   ]
  },
  {
   "cell_type": "code",
   "execution_count": 4,
   "metadata": {},
   "outputs": [],
   "source": [
    "from sklearn.feature_extraction.text import TfidfVectorizer\n",
    "\n",
    "X_train = data_train['abstract']\n",
    "y_train = data_train['journal']\n",
    "X_test = data_test['abstract']\n",
    "y_test = data_test['journal']\n",
    "\n",
    "tfidf = TfidfVectorizer(min_df=20, max_df=0.9)\n",
    "X_train_final = tfidf.fit_transform(X_train)\n",
    "X_test_final = tfidf.transform(X_test)"
   ]
  },
  {
   "cell_type": "code",
   "execution_count": 5,
   "metadata": {},
   "outputs": [
    {
     "data": {
      "text/plain": [
       "56588"
      ]
     },
     "execution_count": 5,
     "metadata": {},
     "output_type": "execute_result"
    }
   ],
   "source": [
    "len(tfidf.get_feature_names_out())"
   ]
  },
  {
   "cell_type": "code",
   "execution_count": null,
   "metadata": {},
   "outputs": [],
   "source": [
    "# # Pruebas MultinomialNB:\n",
    "\n",
    "# from sklearn.naive_bayes import MultinomialNB\n",
    "\n",
    "# model = MultinomialNB(alpha=0.004)\n",
    "# print(\"Vamos a entrenar 1!\")\n",
    "# model.fit(X_train_final,y_train)\n",
    "# print(\"1. Entrenamiento terminado. Vamos a la predicción!\")"
   ]
  },
  {
   "cell_type": "code",
   "execution_count": null,
   "metadata": {},
   "outputs": [],
   "source": [
    "# # Pruebas KNeighborsClassifier:\n",
    "\n",
    "# from sklearn.neighbors import KNeighborsClassifier\n",
    "\n",
    "# model = KNeighborsClassifier(n_neighbors=50, n_jobs=-1)\n",
    "# print(\"Vamos a entrenar!\")\n",
    "# model.fit(X_train_final,y_train)\n",
    "# print(\"1. Entrenamiento terminado. Vamos a la predicción!\")"
   ]
  },
  {
   "cell_type": "code",
   "execution_count": null,
   "metadata": {},
   "outputs": [],
   "source": [
    "# # Pruebas RandomForestClassifier:\n",
    "\n",
    "# from sklearn.ensemble import RandomForestClassifier\n",
    "\n",
    "# model = RandomForestClassifier(n_estimators=150, max_features=\"sqrt\", criterion=\"gini\", max_depth=200, n_jobs=-1)\n",
    "# print(\"Vamos a entrenar!\")\n",
    "# model.fit(X_train_final,y_train)\n",
    "# print(\"1. Entrenamiento terminado. Vamos a la predicción!\")"
   ]
  },
  {
   "cell_type": "code",
   "execution_count": null,
   "metadata": {},
   "outputs": [],
   "source": [
    "# # Pruebas LogisticRegression:\n",
    "\n",
    "# from sklearn.linear_model import LogisticRegression\n",
    "\n",
    "# model = LogisticRegression(multi_class=\"multinomial\", solver=\"saga\", penalty=\"none\", n_jobs=-1)\n",
    "# print(\"Vamos a entrenar!\")\n",
    "# model.fit(X_train_final,y_train)\n",
    "# print(\"1. Entrenamiento terminado. Vamos a la predicción!\")"
   ]
  },
  {
   "cell_type": "code",
   "execution_count": null,
   "metadata": {},
   "outputs": [],
   "source": [
    "# # Pruebas ComplementNB:\n",
    "\n",
    "# from sklearn.naive_bayes import ComplementNB\n",
    "\n",
    "# model = ComplementNB(alpha=0.004)\n",
    "# print(\"Vamos a entrenar 1!\")\n",
    "# model.fit(X_train_final,y_train)\n",
    "# print(\"1. Entrenamiento terminado. Vamos a la predicción!\")"
   ]
  },
  {
   "cell_type": "markdown",
   "metadata": {},
   "source": [
    "Accuracy Score"
   ]
  },
  {
   "cell_type": "code",
   "execution_count": null,
   "metadata": {},
   "outputs": [],
   "source": [
    "from sklearn.metrics import top_k_accuracy_score\n",
    "\n",
    "proba = model.predict_proba(X_test_final)\n",
    "\n",
    "print('acc@1 = ',top_k_accuracy_score(y_test, proba,k=1,labels=np.sort(y_train.unique())))\n",
    "print('acc@5 = ',top_k_accuracy_score(y_test, proba,k=5,labels=np.sort(y_train.unique())))\n",
    "print('acc@10 = ',top_k_accuracy_score(y_test, proba,k=10,labels=np.sort(y_train.unique())))"
   ]
  },
  {
   "cell_type": "code",
   "execution_count": null,
   "metadata": {},
   "outputs": [],
   "source": [
    "truths = y_test.tolist()\n",
    "\n",
    "print(\"MRR@5: \"+ str(MRR(proba, truths, 5, model.classes_)))\n",
    "print(\"MRR@10: \"+ str(MRR(proba, truths, 10, model.classes_)))"
   ]
  }
 ],
 "metadata": {
  "interpreter": {
   "hash": "be23ae5e9cab8f7d3dc053734d7c1a72c76df2b3e32c536f0ca96d686b8189c9"
  },
  "kernelspec": {
   "display_name": "Python 3.10.4 64-bit",
   "language": "python",
   "name": "python3"
  },
  "language_info": {
   "codemirror_mode": {
    "name": "ipython",
    "version": 3
   },
   "file_extension": ".py",
   "mimetype": "text/x-python",
   "name": "python",
   "nbconvert_exporter": "python",
   "pygments_lexer": "ipython3",
   "version": "3.10.4"
  },
  "orig_nbformat": 4
 },
 "nbformat": 4,
 "nbformat_minor": 2
}
