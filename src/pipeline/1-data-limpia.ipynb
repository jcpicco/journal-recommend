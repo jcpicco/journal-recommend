{
 "cells": [
  {
   "cell_type": "code",
   "execution_count": null,
   "metadata": {},
   "outputs": [],
   "source": [
    "import pandas as pd\n",
    "pd.options.mode.chained_assignment = None  # default='warn'\n",
    "import numpy as np\n",
    "import matplotlib.pyplot as plt\n",
    "from collections import Counter"
   ]
  },
  {
   "cell_type": "code",
   "execution_count": null,
   "metadata": {},
   "outputs": [],
   "source": [
    "data = pd.read_csv(r'..\\..\\data\\data.csv')\n",
    "data.title = data.title.astype(str)\n",
    "data.abstract = data.abstract.astype(str)\n",
    "data.journal = data.journal.astype(str)\n",
    "\n",
    "data.shape"
   ]
  },
  {
   "cell_type": "markdown",
   "metadata": {},
   "source": [
    "Borrado de duplicados"
   ]
  },
  {
   "cell_type": "code",
   "execution_count": null,
   "metadata": {},
   "outputs": [],
   "source": [
    "data.drop(['cord_uid','source_x','doi','pmcid','pubmed_id','license','publish_time',\\\n",
    "    'authors','mag_id','who_covidence_id','arxiv_id','pdf_json_files','pmc_json_files','url','s2_id'],\\\n",
    "    inplace=True,axis=1)"
   ]
  },
  {
   "cell_type": "code",
   "execution_count": null,
   "metadata": {},
   "outputs": [],
   "source": [
    "data['journal'] = data['journal'].apply(lambda x: x.lower())"
   ]
  },
  {
   "cell_type": "code",
   "execution_count": null,
   "metadata": {},
   "outputs": [],
   "source": [
    "print(\"Antes:\",data.shape)\n",
    "\n",
    "data = data.drop_duplicates(subset=['abstract','journal','title'],keep='first')\n",
    "\n",
    "print(\"Después:\",data.shape)"
   ]
  },
  {
   "cell_type": "code",
   "execution_count": null,
   "metadata": {},
   "outputs": [],
   "source": [
    "journals = Counter(data['journal'])\n",
    "\n",
    "print(max(journals, key=journals.get),\":\",max(journals.values()))"
   ]
  },
  {
   "cell_type": "code",
   "execution_count": null,
   "metadata": {},
   "outputs": [],
   "source": [
    "lista = []\n",
    "\n",
    "for n in journals:\n",
    "    lista.append(journals[n])\n",
    "\n",
    "lista.sort()\n",
    "\n",
    "plt.rcParams[\"figure.figsize\"] = (10,5)\n",
    "plt.plot(lista)\n",
    "#ax.set_ylim([0,1000])\n",
    "plt.yscale(\"log\")\n",
    "plt.show()"
   ]
  },
  {
   "cell_type": "markdown",
   "metadata": {},
   "source": [
    "Borro nulos"
   ]
  },
  {
   "cell_type": "code",
   "execution_count": null,
   "metadata": {},
   "outputs": [],
   "source": [
    "print(\"Antes:\",data.shape)\n",
    "\n",
    "data['title'] = data['title'].apply(lambda x: x.replace(\"nan\",\"\") if x == \"nan\" else x)\n",
    "data = data.dropna(subset=['abstract','journal','title'])\n",
    "data = data[~data[\"abstract\"].str.contains(\"nan\")]\n",
    "data = data[~data[\"journal\"].str.contains(\"nan\")]\n",
    "\n",
    "print(\"Después:\",data.shape)"
   ]
  },
  {
   "cell_type": "code",
   "execution_count": null,
   "metadata": {},
   "outputs": [],
   "source": [
    "journals = Counter(data['journal'])\n",
    "\n",
    "print(max(journals, key=journals.get),\":\",max(journals.values()))"
   ]
  },
  {
   "cell_type": "code",
   "execution_count": null,
   "metadata": {},
   "outputs": [],
   "source": [
    "lista = []\n",
    "\n",
    "for n in journals:\n",
    "    lista.append(journals[n])\n",
    "\n",
    "lista.sort()\n",
    "\n",
    "plt.rcParams[\"figure.figsize\"] = (10,5)\n",
    "plt.plot(lista)\n",
    "#ax.set_ylim([0,1000])\n",
    "plt.yscale(\"log\")\n",
    "plt.show()"
   ]
  },
  {
   "cell_type": "code",
   "execution_count": null,
   "metadata": {},
   "outputs": [],
   "source": [
    "total_100 = 0\n",
    "total_1000 = 0\n",
    "\n",
    "for s in journals:\n",
    "    if journals[s] < 100:\n",
    "        total_100+=1\n",
    "\n",
    "    elif journals[s] >= 1000:\n",
    "        total_1000+=1\n",
    "\n",
    "print(\"Revistas con menos de 100 muestras:\",total_100)\n",
    "print(\"Revistas con 1000 muestras o más:\",total_1000)"
   ]
  },
  {
   "cell_type": "code",
   "execution_count": null,
   "metadata": {},
   "outputs": [],
   "source": [
    "i = 0\n",
    "\n",
    "count = data.copy(deep=True)\n",
    "\n",
    "while i < 10:\n",
    "    journals = Counter(count['journal'])\n",
    "\n",
    "    print(max(journals, key=journals.get),\":\",max(journals.values()))\n",
    "\n",
    "    count = count[count[\"journal\"].str.contains(max(journals, key=journals.get))==False]\n",
    "    i += 1"
   ]
  },
  {
   "cell_type": "code",
   "execution_count": null,
   "metadata": {},
   "outputs": [],
   "source": [
    "print(\"Antes:\",data.abstract[0])\n",
    "\n",
    "data[\"abstract\"] = data[\"title\"] + \" \" + data[\"abstract\"]\n",
    "data.drop(['title'],inplace=True,axis=1)\n",
    "\n",
    "print(\"Después:\",data.abstract[0])\n"
   ]
  },
  {
   "cell_type": "markdown",
   "metadata": {},
   "source": [
    "Quito journals innecesarios"
   ]
  },
  {
   "cell_type": "code",
   "execution_count": null,
   "metadata": {},
   "outputs": [],
   "source": [
    "journals = Counter(data['journal'])\n",
    "\n",
    "def remove_journals(data,column,value):\n",
    "    n = 0\n",
    "\n",
    "    for s in journals:\n",
    "        n+=1\n",
    "        \n",
    "        if journals[s]<value:\n",
    "            data = data[data[column]!=s]\n",
    "\n",
    "    return data\n",
    "\n",
    "print(\"Antes:\", data.shape, \" - \", len(journals), \"clases\")\n",
    "\n",
    "data = remove_journals(data,'journal',100)\n",
    "journals = Counter(data['journal'])\n",
    "\n",
    "print(\"Después:\", data.shape, \" - \", len(journals), \"clases\")"
   ]
  },
  {
   "cell_type": "code",
   "execution_count": null,
   "metadata": {},
   "outputs": [],
   "source": [
    "lista = []\n",
    "\n",
    "for n in journals:\n",
    "    lista.append(journals[n])\n",
    "\n",
    "lista.sort()\n",
    "\n",
    "plt.rcParams[\"figure.figsize\"] = (10,5)\n",
    "plt.plot(lista)\n",
    "#ax.set_ylim([0,1000])\n",
    "plt.yscale(\"log\")\n",
    "plt.show()"
   ]
  },
  {
   "cell_type": "markdown",
   "metadata": {},
   "source": [
    "Guardamos dataset"
   ]
  },
  {
   "cell_type": "code",
   "execution_count": null,
   "metadata": {},
   "outputs": [],
   "source": [
    "#Dataset limpio\n",
    "data.to_csv(r'..\\..\\data\\data-limpia.csv', index=False)"
   ]
  }
 ],
 "metadata": {
  "interpreter": {
   "hash": "be23ae5e9cab8f7d3dc053734d7c1a72c76df2b3e32c536f0ca96d686b8189c9"
  },
  "kernelspec": {
   "display_name": "Python 3.10.4 64-bit",
   "language": "python",
   "name": "python3"
  },
  "language_info": {
   "codemirror_mode": {
    "name": "ipython",
    "version": 3
   },
   "file_extension": ".py",
   "mimetype": "text/x-python",
   "name": "python",
   "nbconvert_exporter": "python",
   "pygments_lexer": "ipython3",
   "version": "3.10.4"
  },
  "orig_nbformat": 4
 },
 "nbformat": 4,
 "nbformat_minor": 2
}
