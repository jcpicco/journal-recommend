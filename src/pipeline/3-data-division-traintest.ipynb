{
 "cells": [
  {
   "cell_type": "code",
   "execution_count": null,
   "metadata": {},
   "outputs": [],
   "source": [
    "import pandas as pd\n",
    "pd.options.mode.chained_assignment = None  # default='warn'\n",
    "import numpy as np\n",
    "from sklearn.model_selection import train_test_split"
   ]
  },
  {
   "cell_type": "code",
   "execution_count": null,
   "metadata": {},
   "outputs": [],
   "source": [
    "data = pd.read_csv(r'..\\..\\data\\data-preprocesada-lstm.csv')\n",
    "\n",
    "data.abstract = data.abstract.astype(str)\n",
    "data.journal = data.journal.astype(str)"
   ]
  },
  {
   "cell_type": "markdown",
   "metadata": {},
   "source": [
    "División train/test"
   ]
  },
  {
   "cell_type": "code",
   "execution_count": null,
   "metadata": {},
   "outputs": [],
   "source": [
    "X = data['abstract']\n",
    "Y = data['journal']\n",
    "\n",
    "X_train , X_test , y_train , y_test = train_test_split(X , Y, test_size=0.25, stratify=Y)"
   ]
  },
  {
   "cell_type": "code",
   "execution_count": null,
   "metadata": {},
   "outputs": [],
   "source": [
    "df_X_train = pd.DataFrame(data=X_train)\n",
    "df_y_train = pd.DataFrame(data=y_train)\n",
    "\n",
    "frames = [df_X_train,df_y_train]\n",
    "\n",
    "df_train = pd.concat(frames,axis=1)"
   ]
  },
  {
   "cell_type": "code",
   "execution_count": null,
   "metadata": {},
   "outputs": [],
   "source": [
    "df_X_test = pd.DataFrame(data=X_test)\n",
    "df_y_test = pd.DataFrame(data=y_test)\n",
    "\n",
    "frames = [df_X_test,df_y_test]\n",
    "\n",
    "df_test = pd.concat(frames,axis=1)"
   ]
  },
  {
   "cell_type": "code",
   "execution_count": null,
   "metadata": {},
   "outputs": [],
   "source": [
    "print(data.shape)\n",
    "print(df_train.shape)\n",
    "print(df_test.shape)"
   ]
  },
  {
   "cell_type": "code",
   "execution_count": null,
   "metadata": {},
   "outputs": [],
   "source": [
    "import nltk\n",
    "nltk.download('stopwords')\n",
    "from nltk.corpus import stopwords\n",
    "from collections import Counter\n",
    "\n",
    "stopwords = set(stopwords.words('english'))\n",
    "\n",
    "def conteo_total(text):\n",
    "    n = 0\n",
    "\n",
    "    for word in text.split():\n",
    "        n+=1\n",
    "\n",
    "    return n\n",
    "\n",
    "def conteo_stopwords(text):\n",
    "    n = 0\n",
    "    \n",
    "    for word in text.split():\n",
    "        if word in stopwords:\n",
    "            n+=1\n",
    "\n",
    "    return n\n",
    "\n",
    "def cadena_stopwords(text):\n",
    "    text = ' '.join([word for word in text.split() if word in stopwords])\n",
    "    return text\n",
    "\n",
    "def cadena(text):\n",
    "    text = ' '.join([word for word in text.split()])\n",
    "    return text\n",
    "\n",
    "text_full = df_train['abstract'].apply(lambda x: cadena(x))\n",
    "text_full_split = ' '.join(str(item) for item in text_full)\n",
    "text_full_split = list(text_full_split.split(\" \"))\n",
    "text_full_count = Counter(text_full_split)\n",
    "\n",
    "total = 0\n",
    "\n",
    "for text in df_train['abstract']:\n",
    "    total += conteo_total(text)\n",
    "\n",
    "print(\"Palabras únicas:\",len(text_full_count))\n",
    "print(\"Palabras totales:\",total)"
   ]
  },
  {
   "cell_type": "code",
   "execution_count": null,
   "metadata": {},
   "outputs": [],
   "source": [
    "text_full = df_test['abstract'].apply(lambda x: cadena(x))\n",
    "text_full_split = ' '.join(str(item) for item in text_full)\n",
    "text_full_split = list(text_full_split.split(\" \"))\n",
    "text_full_count = Counter(text_full_split)\n",
    "\n",
    "total = 0\n",
    "\n",
    "for text in df_test['abstract']:\n",
    "    total += conteo_total(text)\n",
    "\n",
    "print(\"Palabras únicas:\",len(text_full_count))\n",
    "print(\"Palabras totales:\",total)"
   ]
  },
  {
   "cell_type": "code",
   "execution_count": null,
   "metadata": {},
   "outputs": [],
   "source": [
    "df_train.to_csv(r'..\\..\\data\\train\\data-train-lstm.csv', index=False)\n",
    "df_test.to_csv(r'..\\..\\data\\test\\data-test-lstm.csv', index=False)"
   ]
  }
 ],
 "metadata": {
  "interpreter": {
   "hash": "be23ae5e9cab8f7d3dc053734d7c1a72c76df2b3e32c536f0ca96d686b8189c9"
  },
  "kernelspec": {
   "display_name": "Python 3.10.4 64-bit",
   "language": "python",
   "name": "python3"
  },
  "language_info": {
   "codemirror_mode": {
    "name": "ipython",
    "version": 3
   },
   "file_extension": ".py",
   "mimetype": "text/x-python",
   "name": "python",
   "nbconvert_exporter": "python",
   "pygments_lexer": "ipython3",
   "version": "3.10.4"
  },
  "orig_nbformat": 4
 },
 "nbformat": 4,
 "nbformat_minor": 2
}
