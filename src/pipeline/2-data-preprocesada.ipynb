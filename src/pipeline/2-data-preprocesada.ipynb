{
 "cells": [
  {
   "cell_type": "code",
   "execution_count": null,
   "metadata": {},
   "outputs": [],
   "source": [
    "import pandas as pd\n",
    "pd.options.mode.chained_assignment = None  # default='warn'\n",
    "import numpy as np\n",
    "import matplotlib.pyplot as plt\n",
    "import nltk\n",
    "nltk.download('stopwords')\n",
    "from nltk.corpus import stopwords\n",
    "from collections import Counter\n",
    "import re"
   ]
  },
  {
   "cell_type": "code",
   "execution_count": null,
   "metadata": {},
   "outputs": [],
   "source": [
    "data = pd.read_csv(r'..\\..\\data\\data-limpia.csv')\n",
    "\n",
    "data.abstract = data.abstract.astype(str)\n",
    "data.journal = data.journal.astype(str)"
   ]
  },
  {
   "cell_type": "markdown",
   "metadata": {},
   "source": [
    "Filtrado de texto"
   ]
  },
  {
   "cell_type": "code",
   "execution_count": null,
   "metadata": {},
   "outputs": [],
   "source": [
    "stopwords = set(stopwords.words('english'))\n",
    "\n",
    "def conteo_total(text):\n",
    "    n = 0\n",
    "\n",
    "    for word in text.split():\n",
    "        n+=1\n",
    "\n",
    "    return n\n",
    "\n",
    "def conteo_stopwords(text):\n",
    "    n = 0\n",
    "    \n",
    "    for word in text.split():\n",
    "        if word in stopwords:\n",
    "            n+=1\n",
    "\n",
    "    return n\n",
    "\n",
    "def cadena_stopwords(text):\n",
    "    text = ' '.join([word for word in text.split() if word in stopwords])\n",
    "    return text\n",
    "\n",
    "def cadena(text):\n",
    "    text = ' '.join([word for word in text.split()])\n",
    "    return text"
   ]
  },
  {
   "cell_type": "code",
   "execution_count": null,
   "metadata": {},
   "outputs": [],
   "source": [
    "text_full = data['abstract'].apply(lambda x: cadena(x))\n",
    "text_full_split = ' '.join(str(item) for item in text_full)\n",
    "text_full_split = list(text_full_split.split(\" \"))\n",
    "text_full_count = Counter(text_full_split)\n",
    "\n",
    "total = 0\n",
    "\n",
    "for text in data['abstract']:\n",
    "    total += conteo_total(text)\n",
    "\n",
    "print(\"Palabras únicas:\",len(text_full_count))\n",
    "print(\"Palabras totales:\",total)"
   ]
  },
  {
   "cell_type": "code",
   "execution_count": null,
   "metadata": {},
   "outputs": [],
   "source": [
    "data['abstract'] = data['abstract'].apply(lambda x: re.sub('[^a-zA-z0-9\\s]','',x))\n",
    "data['abstract'] = data['abstract'].apply(lambda x: x.lower())\n",
    "data = data[data['abstract'].str.strip().astype(bool)]"
   ]
  },
  {
   "cell_type": "markdown",
   "metadata": {},
   "source": [
    "Borramos palabras vacías"
   ]
  },
  {
   "cell_type": "code",
   "execution_count": null,
   "metadata": {},
   "outputs": [],
   "source": [
    "text_split = []\n",
    "\n",
    "for text in data['abstract']:\n",
    "    for s in text.split():\n",
    "        text_split.append(s)\n",
    "\n",
    "len(text_split)"
   ]
  },
  {
   "cell_type": "code",
   "execution_count": null,
   "metadata": {},
   "outputs": [],
   "source": [
    "words = Counter(text_split)\n",
    "\n",
    "lista = []\n",
    "\n",
    "for n in words:\n",
    "    lista.append(words[n])\n",
    "\n",
    "lista.sort(reverse=True)\n",
    "\n",
    "plt.rcParams[\"figure.figsize\"] = (10,5)\n",
    "plt.plot(lista)\n",
    "\n",
    "#ax.set_ylim([0,1000])\n",
    "plt.yscale(\"log\")\n",
    "plt.xscale(\"log\")\n",
    "plt.show()"
   ]
  },
  {
   "cell_type": "code",
   "execution_count": null,
   "metadata": {},
   "outputs": [],
   "source": [
    "total_min = 0\n",
    "total_max = 0\n",
    "\n",
    "for s in words:\n",
    "    if words[s] < 1000:\n",
    "        total_min+=1\n",
    "\n",
    "    elif words[s] >= 100000:\n",
    "        total_max+=1\n",
    "\n",
    "print(\"Palabras con menos de 1.000 muestras:\",total_min)\n",
    "print(\"Palabras con 100.000 muestras o más:\",total_max)"
   ]
  },
  {
   "cell_type": "code",
   "execution_count": null,
   "metadata": {},
   "outputs": [],
   "source": [
    "words = sorted(words.items(), key=lambda x: x[1], reverse=True)\n",
    "print(words[0:10])"
   ]
  },
  {
   "cell_type": "code",
   "execution_count": null,
   "metadata": {},
   "outputs": [],
   "source": [
    "text_full = data['abstract'].apply(lambda x: cadena(x))\n",
    "text_full_split = ' '.join(str(item) for item in text_full)\n",
    "text_full_split = list(text_full_split.split(\" \"))\n",
    "text_full_count = Counter(text_full_split)\n",
    "\n",
    "text_stopwords = data['abstract'].apply(lambda x: cadena_stopwords(x))\n",
    "text_stopwords_split = ' '.join(str(item) for item in text_stopwords)\n",
    "text_stopwords_split = list(text_stopwords_split.split(\" \"))\n",
    "text_stopwords_count = Counter(text_stopwords_split)\n",
    "\n",
    "total = 0\n",
    "total_stopwords = 0\n",
    "\n",
    "for text in data['abstract']:\n",
    "    total += conteo_total(text)\n",
    "    total_stopwords += conteo_stopwords(text)\n",
    "\n",
    "print(\"Palabras únicas:\",len(text_full_count))\n",
    "print(\"Palabras totales:\",total)\n",
    "print(\"Stopwords únicos:\",len(text_stopwords_count))\n",
    "print(\"Stopwords totales:\",total_stopwords)\n",
    "print(\"Palabras relevantes únicas:\",len(text_full_count)-len(text_stopwords_count))\n",
    "print(\"Palabras relevantes totales:\",total-total_stopwords)"
   ]
  },
  {
   "cell_type": "code",
   "execution_count": null,
   "metadata": {},
   "outputs": [],
   "source": [
    "def remove_stopwords(text):\n",
    "    text = ' '.join([word for word in text.split() if word not in stopwords])\n",
    "    return text\n",
    "\n",
    "data['abstract'] = data['abstract'].apply(lambda x: remove_stopwords(x))"
   ]
  },
  {
   "cell_type": "code",
   "execution_count": null,
   "metadata": {},
   "outputs": [],
   "source": [
    "text_split = []\n",
    "\n",
    "for text in data['abstract']:\n",
    "    for s in text.split():\n",
    "        text_split.append(s)\n",
    "\n",
    "len(text_split)"
   ]
  },
  {
   "cell_type": "code",
   "execution_count": null,
   "metadata": {},
   "outputs": [],
   "source": [
    "words = Counter(text_split)\n",
    "relevantes_dict_min = sorted(words.items(), key=lambda x: x[1], reverse=False)\n",
    "relevantes_dict_max = sorted(words.items(), key=lambda x: x[1], reverse=True)\n",
    "\n",
    "print(relevantes_dict_min[0:10])\n",
    "print(relevantes_dict_max[0:10])"
   ]
  },
  {
   "cell_type": "code",
   "execution_count": null,
   "metadata": {},
   "outputs": [],
   "source": [
    "n = 0\n",
    "\n",
    "for word in words:\n",
    "    if words[word] == 1:\n",
    "        n+=1\n",
    "\n",
    "print(n)"
   ]
  },
  {
   "cell_type": "code",
   "execution_count": null,
   "metadata": {},
   "outputs": [],
   "source": [
    "text_full = data['abstract'].apply(lambda x: cadena(x))\n",
    "text_full_split = ' '.join(str(item) for item in text_full)\n",
    "text_full_split = list(text_full_split.split(\" \"))\n",
    "text_full_count = Counter(text_full_split)\n",
    "\n",
    "text_stopwords = data['abstract'].apply(lambda x: cadena_stopwords(x))\n",
    "text_stopwords_split = ' '.join(str(item) for item in text_stopwords)\n",
    "text_stopwords_split = list(text_stopwords_split.split(\" \"))\n",
    "text_stopwords_count = Counter(text_stopwords_split)\n",
    "\n",
    "total = 0\n",
    "total_stopwords = 0\n",
    "\n",
    "for text in data['abstract']:\n",
    "    total += conteo_total(text)\n",
    "    total_stopwords += conteo_stopwords(text)\n",
    "\n",
    "print(\"Palabras únicas:\",len(text_full_count))\n",
    "print(\"Palabras totales:\",total)\n",
    "print(\"Stopwords únicos:\",len(text_stopwords_count))\n",
    "print(\"Stopwords totales:\",total_stopwords)\n",
    "print(\"Palabras relevantes únicas:\",len(text_full_count)-len(text_stopwords_count))\n",
    "print(\"Palabras relevantes totales:\",total-total_stopwords)"
   ]
  },
  {
   "cell_type": "code",
   "execution_count": null,
   "metadata": {},
   "outputs": [],
   "source": [
    "data.to_csv(r'..\\..\\data\\data-preprocesada-lstm.csv', index=False)"
   ]
  }
 ],
 "metadata": {
  "interpreter": {
   "hash": "be23ae5e9cab8f7d3dc053734d7c1a72c76df2b3e32c536f0ca96d686b8189c9"
  },
  "kernelspec": {
   "display_name": "Python 3.10.4 64-bit",
   "language": "python",
   "name": "python3"
  },
  "language_info": {
   "codemirror_mode": {
    "name": "ipython",
    "version": 3
   },
   "file_extension": ".py",
   "mimetype": "text/x-python",
   "name": "python",
   "nbconvert_exporter": "python",
   "pygments_lexer": "ipython3",
   "version": "3.10.4"
  },
  "orig_nbformat": 4
 },
 "nbformat": 4,
 "nbformat_minor": 2
}
