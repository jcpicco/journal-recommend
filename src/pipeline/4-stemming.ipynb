{
 "cells": [
  {
   "cell_type": "code",
   "execution_count": 1,
   "metadata": {},
   "outputs": [],
   "source": [
    "import pandas as pd\n",
    "pd.options.mode.chained_assignment = None  # default='warn'\n",
    "import numpy as np\n",
    "import matplotlib.pyplot as plt\n",
    "import nltk\n",
    "nltk.download('stopwords')\n",
    "from nltk.corpus import stopwords\n",
    "from nltk.stem.porter import PorterStemmer\n",
    "from collections import Counter"
   ]
  },
  {
   "cell_type": "code",
   "execution_count": 2,
   "metadata": {},
   "outputs": [],
   "source": [
    "data_train = pd.read_csv(r'..\\..\\data\\train\\data-train-lstm.csv')\n",
    "data_test = pd.read_csv(r'..\\..\\data\\test\\data-test-lstm.csv')"
   ]
  },
  {
   "cell_type": "code",
   "execution_count": 8,
   "metadata": {},
   "outputs": [
    {
     "name": "stdout",
     "output_type": "stream",
     "text": [
      "(146385, 2)\n",
      "(48796, 2)\n"
     ]
    }
   ],
   "source": [
    "print(data_train.shape)\n",
    "print(data_test.shape)"
   ]
  },
  {
   "cell_type": "code",
   "execution_count": 3,
   "metadata": {},
   "outputs": [
    {
     "name": "stderr",
     "output_type": "stream",
     "text": [
      "[nltk_data] Downloading package stopwords to\n",
      "[nltk_data]     C:\\Users\\Juanma\\AppData\\Roaming\\nltk_data...\n",
      "[nltk_data]   Package stopwords is already up-to-date!\n"
     ]
    }
   ],
   "source": [
    "stopwords = set(stopwords.words('english'))\n",
    "\n",
    "def conteo_total(text):\n",
    "    n = 0\n",
    "\n",
    "    for word in text.split():\n",
    "        n+=1\n",
    "\n",
    "    return n\n",
    "\n",
    "def conteo_stopwords(text):\n",
    "    n = 0\n",
    "    \n",
    "    for word in text.split():\n",
    "        if word in stopwords:\n",
    "            n+=1\n",
    "\n",
    "    return n\n",
    "\n",
    "def cadena_stopwords(text):\n",
    "    text = ' '.join([word for word in text.split() if word in stopwords])\n",
    "    return text\n",
    "\n",
    "def cadena(text):\n",
    "    text = ' '.join([word for word in text.split()])\n",
    "    return text"
   ]
  },
  {
   "cell_type": "markdown",
   "metadata": {},
   "source": [
    "Pasar Stemmer Porter"
   ]
  },
  {
   "cell_type": "code",
   "execution_count": 4,
   "metadata": {},
   "outputs": [],
   "source": [
    "def stem(text):\n",
    "    stemmer = PorterStemmer()\n",
    "    tokens = set(nltk.word_tokenize(text,'english'))\n",
    "    stems = []\n",
    "\n",
    "    for item in tokens:\n",
    "        if item.isalpha():\n",
    "            stems.append(stemmer.stem(item))\n",
    "    \n",
    "    return ' '.join(stems)\n",
    "\n",
    "\n",
    "data_train['abstract'] = data_train['abstract'].apply(lambda x : stem(x))\n",
    "data_test['abstract'] = data_test['abstract'].apply(lambda x : stem(x))\n"
   ]
  },
  {
   "cell_type": "code",
   "execution_count": null,
   "metadata": {},
   "outputs": [],
   "source": [
    "text_full = data_train['abstract'].apply(lambda x: cadena(x))\n",
    "text_full_split = ' '.join(str(item) for item in text_full)\n",
    "text_full_split = list(text_full_split.split(\" \"))\n",
    "text_full_count = Counter(text_full_split)\n",
    "\n",
    "total = 0\n",
    "\n",
    "for text in data_train['abstract']:\n",
    "    total += conteo_total(text)\n",
    "\n",
    "print(\"Palabras únicas:\",len(text_full_count))\n",
    "print(\"Palabras totales:\",total)"
   ]
  },
  {
   "cell_type": "code",
   "execution_count": 6,
   "metadata": {},
   "outputs": [],
   "source": [
    "# Data preprocesada\n",
    "data_train.to_csv(r'..\\..\\data\\train\\data-train.csv', index=False)\n",
    "data_test.to_csv(r'..\\..\\data\\test\\data-test.csv', index=False)"
   ]
  }
 ],
 "metadata": {
  "interpreter": {
   "hash": "be23ae5e9cab8f7d3dc053734d7c1a72c76df2b3e32c536f0ca96d686b8189c9"
  },
  "kernelspec": {
   "display_name": "Python 3.10.4 64-bit",
   "language": "python",
   "name": "python3"
  },
  "language_info": {
   "codemirror_mode": {
    "name": "ipython",
    "version": 3
   },
   "file_extension": ".py",
   "mimetype": "text/x-python",
   "name": "python",
   "nbconvert_exporter": "python",
   "pygments_lexer": "ipython3",
   "version": "3.10.4"
  },
  "orig_nbformat": 4
 },
 "nbformat": 4,
 "nbformat_minor": 2
}
