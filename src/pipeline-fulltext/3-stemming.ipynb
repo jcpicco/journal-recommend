{
 "cells": [
  {
   "cell_type": "code",
   "execution_count": 1,
   "metadata": {},
   "outputs": [],
   "source": [
    "import pandas as pd\n",
    "pd.options.mode.chained_assignment = None  # default='warn'\n",
    "import numpy as np"
   ]
  },
  {
   "cell_type": "markdown",
   "metadata": {},
   "source": [
    "Stemming"
   ]
  },
  {
   "cell_type": "code",
   "execution_count": 2,
   "metadata": {},
   "outputs": [],
   "source": [
    "data = pd.read_csv(r'..\\..\\data\\train\\data-fulltext-train-lstm.csv')\n",
    "\n",
    "data.abstract = data.abstract.astype(str)\n",
    "data.journal = data.journal.astype(str)"
   ]
  },
  {
   "cell_type": "code",
   "execution_count": 3,
   "metadata": {},
   "outputs": [
    {
     "name": "stderr",
     "output_type": "stream",
     "text": [
      "[nltk_data] Downloading package stopwords to\n",
      "[nltk_data]     C:\\Users\\Juanma\\AppData\\Roaming\\nltk_data...\n",
      "[nltk_data]   Package stopwords is already up-to-date!\n"
     ]
    }
   ],
   "source": [
    "from nltk.stem.porter import PorterStemmer\n",
    "import nltk\n",
    "nltk.download('stopwords')\n",
    "from nltk.corpus import stopwords\n",
    "\n",
    "stopwords = set(stopwords.words('english'))\n",
    "\n",
    "def conteo_total(text):\n",
    "    n = 0\n",
    "\n",
    "    for word in text.split():\n",
    "        n+=1\n",
    "\n",
    "    return n\n",
    "\n",
    "def conteo_stopwords(text):\n",
    "    n = 0\n",
    "    \n",
    "    for word in text.split():\n",
    "        if word in stopwords:\n",
    "            n+=1\n",
    "\n",
    "    return n\n",
    "\n",
    "def cadena_stopwords(text):\n",
    "    text = ' '.join([word for word in text.split() if word in stopwords])\n",
    "    return text\n",
    "    \n",
    "def cadena(text):\n",
    "    text = ' '.join([word for word in text.split()])\n",
    "    return text\n",
    "\n",
    "def stem(text):\n",
    "    stemmer = PorterStemmer()\n",
    "    tokens = set(nltk.word_tokenize(text,'english'))\n",
    "    stems = []\n",
    "\n",
    "    for item in tokens:\n",
    "        if item.isalpha():\n",
    "            stems.append(stemmer.stem(item))\n",
    "    \n",
    "    return ' '.join(stems)\n",
    "\n",
    "\n",
    "data['abstract'] = data['abstract'].apply(lambda x : stem(x))"
   ]
  },
  {
   "cell_type": "code",
   "execution_count": 4,
   "metadata": {},
   "outputs": [
    {
     "name": "stdout",
     "output_type": "stream",
     "text": [
      "Palabras únicas: 1034681\n",
      "Palabras totales: 70404911\n",
      "Stopwords únicos: 124\n",
      "Stopwords totales: 113221\n",
      "Palabras relevantes únicas: 1034557\n",
      "Palabras relevantes totales: 70291690\n"
     ]
    }
   ],
   "source": [
    "from collections import Counter\n",
    "\n",
    "text_full = data['abstract'].apply(lambda x: cadena(x))\n",
    "text_full_split = ' '.join(str(item) for item in text_full)\n",
    "text_full_split = list(text_full_split.split(\" \"))\n",
    "text_full_count = Counter(text_full_split)\n",
    "\n",
    "total = 0\n",
    "\n",
    "for text in data['abstract']:\n",
    "    total += conteo_total(text)\n",
    "\n",
    "print(\"Palabras únicas:\",len(text_full_count))\n",
    "print(\"Palabras totales:\",total)"
   ]
  },
  {
   "cell_type": "code",
   "execution_count": 4,
   "metadata": {},
   "outputs": [],
   "source": [
    "data.to_csv(r'..\\..\\data\\train\\data-fulltext-train.csv', index=False)"
   ]
  }
 ],
 "metadata": {
  "interpreter": {
   "hash": "be23ae5e9cab8f7d3dc053734d7c1a72c76df2b3e32c536f0ca96d686b8189c9"
  },
  "kernelspec": {
   "display_name": "Python 3.10.4 64-bit",
   "language": "python",
   "name": "python3"
  },
  "language_info": {
   "codemirror_mode": {
    "name": "ipython",
    "version": 3
   },
   "file_extension": ".py",
   "mimetype": "text/x-python",
   "name": "python",
   "nbconvert_exporter": "python",
   "pygments_lexer": "ipython3",
   "version": "3.10.4"
  },
  "orig_nbformat": 4
 },
 "nbformat": 4,
 "nbformat_minor": 2
}
