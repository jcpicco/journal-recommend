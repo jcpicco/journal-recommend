{
 "cells": [
  {
   "cell_type": "code",
   "execution_count": 1,
   "metadata": {},
   "outputs": [],
   "source": [
    "import pandas as pd\n",
    "pd.options.mode.chained_assignment = None  # default='warn'\n",
    "import numpy as np"
   ]
  },
  {
   "cell_type": "markdown",
   "metadata": {},
   "source": [
    "Merge de documentos por sha"
   ]
  },
  {
   "cell_type": "code",
   "execution_count": 2,
   "metadata": {},
   "outputs": [],
   "source": [
    "data_pdf = pd.read_csv(r'..\\..\\data\\docs-pdf.csv')\n",
    "data_preprocesada = pd.read_csv(r'..\\..\\data\\data-preprocesada-lstm.csv')\n",
    "data1 = pd.read_csv(r'..\\..\\data\\train\\data-train-lstm.csv')\n",
    "\n",
    "data1.abstract = data1.abstract.astype(str)\n",
    "data1.journal = data1.journal.astype(str)\n",
    "data_preprocesada.abstract = data_preprocesada.abstract.astype(str)\n",
    "data_preprocesada.journal = data_preprocesada.journal.astype(str)\n",
    "data_pdf.full_text = data_pdf.full_text.astype(str)"
   ]
  },
  {
   "cell_type": "code",
   "execution_count": 3,
   "metadata": {},
   "outputs": [
    {
     "name": "stderr",
     "output_type": "stream",
     "text": [
      "[nltk_data] Downloading package stopwords to\n",
      "[nltk_data]     C:\\Users\\Juanma\\AppData\\Roaming\\nltk_data...\n",
      "[nltk_data]   Package stopwords is already up-to-date!\n"
     ]
    }
   ],
   "source": [
    "import nltk\n",
    "nltk.download('stopwords')\n",
    "from nltk.corpus import stopwords\n",
    "\n",
    "stopwords = set(stopwords.words('english'))\n",
    "\n",
    "def conteo_total(text):\n",
    "    n = 0\n",
    "\n",
    "    for word in text.split():\n",
    "        n+=1\n",
    "\n",
    "    return n\n",
    "\n",
    "def conteo_stopwords(text):\n",
    "    n = 0\n",
    "    \n",
    "    for word in text.split():\n",
    "        if word in stopwords:\n",
    "            n+=1\n",
    "\n",
    "    return n\n",
    "\n",
    "def cadena_stopwords(text):\n",
    "    text = ' '.join([word for word in text.split() if word in stopwords])\n",
    "    return text\n",
    "    \n",
    "def cadena(text):\n",
    "    text = ' '.join([word for word in text.split()])\n",
    "    return text"
   ]
  },
  {
   "cell_type": "markdown",
   "metadata": {},
   "source": [
    "Recuperamos los sha del dataset"
   ]
  },
  {
   "cell_type": "code",
   "execution_count": 17,
   "metadata": {},
   "outputs": [],
   "source": [
    "data_preprocesada = data_preprocesada.dropna(subset=\"sha\")"
   ]
  },
  {
   "cell_type": "code",
   "execution_count": 35,
   "metadata": {},
   "outputs": [
    {
     "data": {
      "text/html": [
       "<div>\n",
       "<style scoped>\n",
       "    .dataframe tbody tr th:only-of-type {\n",
       "        vertical-align: middle;\n",
       "    }\n",
       "\n",
       "    .dataframe tbody tr th {\n",
       "        vertical-align: top;\n",
       "    }\n",
       "\n",
       "    .dataframe thead th {\n",
       "        text-align: right;\n",
       "    }\n",
       "</style>\n",
       "<table border=\"1\" class=\"dataframe\">\n",
       "  <thead>\n",
       "    <tr style=\"text-align: right;\">\n",
       "      <th></th>\n",
       "      <th>sha</th>\n",
       "      <th>abstract</th>\n",
       "      <th>journal</th>\n",
       "    </tr>\n",
       "  </thead>\n",
       "  <tbody>\n",
       "    <tr>\n",
       "      <th>0</th>\n",
       "      <td>d1aafb70c066a2068b02786f8929fd9c900897fb</td>\n",
       "      <td>clinical features cultureproven mycoplasma pne...</td>\n",
       "      <td>bmc infect dis</td>\n",
       "    </tr>\n",
       "  </tbody>\n",
       "</table>\n",
       "</div>"
      ],
      "text/plain": [
       "                                        sha  \\\n",
       "0  d1aafb70c066a2068b02786f8929fd9c900897fb   \n",
       "\n",
       "                                            abstract         journal  \n",
       "0  clinical features cultureproven mycoplasma pne...  bmc infect dis  "
      ]
     },
     "execution_count": 35,
     "metadata": {},
     "output_type": "execute_result"
    }
   ],
   "source": [
    "data_preprocesada[data_preprocesada.sha==\"d1aafb70c066a2068b02786f8929fd9c900897fb\"]"
   ]
  },
  {
   "cell_type": "code",
   "execution_count": 26,
   "metadata": {},
   "outputs": [],
   "source": [
    "data_temp = data1.merge(data_preprocesada,how=\"left\", on=['abstract','journal'])"
   ]
  },
  {
   "cell_type": "code",
   "execution_count": 37,
   "metadata": {},
   "outputs": [
    {
     "data": {
      "text/html": [
       "<div>\n",
       "<style scoped>\n",
       "    .dataframe tbody tr th:only-of-type {\n",
       "        vertical-align: middle;\n",
       "    }\n",
       "\n",
       "    .dataframe tbody tr th {\n",
       "        vertical-align: top;\n",
       "    }\n",
       "\n",
       "    .dataframe thead th {\n",
       "        text-align: right;\n",
       "    }\n",
       "</style>\n",
       "<table border=\"1\" class=\"dataframe\">\n",
       "  <thead>\n",
       "    <tr style=\"text-align: right;\">\n",
       "      <th></th>\n",
       "      <th>abstract</th>\n",
       "      <th>journal</th>\n",
       "      <th>sha</th>\n",
       "    </tr>\n",
       "  </thead>\n",
       "  <tbody>\n",
       "    <tr>\n",
       "      <th>80417</th>\n",
       "      <td>clinical features cultureproven mycoplasma pne...</td>\n",
       "      <td>bmc infect dis</td>\n",
       "      <td>d1aafb70c066a2068b02786f8929fd9c900897fb</td>\n",
       "    </tr>\n",
       "  </tbody>\n",
       "</table>\n",
       "</div>"
      ],
      "text/plain": [
       "                                                abstract         journal  \\\n",
       "80417  clinical features cultureproven mycoplasma pne...  bmc infect dis   \n",
       "\n",
       "                                            sha  \n",
       "80417  d1aafb70c066a2068b02786f8929fd9c900897fb  "
      ]
     },
     "execution_count": 37,
     "metadata": {},
     "output_type": "execute_result"
    }
   ],
   "source": [
    "data_temp[data_temp.sha==\"d1aafb70c066a2068b02786f8929fd9c900897fb\"]"
   ]
  },
  {
   "cell_type": "code",
   "execution_count": 40,
   "metadata": {},
   "outputs": [],
   "source": [
    "data = data_temp.merge(data_pdf,how=\"left\", on='sha')"
   ]
  },
  {
   "cell_type": "code",
   "execution_count": 41,
   "metadata": {},
   "outputs": [
    {
     "data": {
      "text/html": [
       "<div>\n",
       "<style scoped>\n",
       "    .dataframe tbody tr th:only-of-type {\n",
       "        vertical-align: middle;\n",
       "    }\n",
       "\n",
       "    .dataframe tbody tr th {\n",
       "        vertical-align: top;\n",
       "    }\n",
       "\n",
       "    .dataframe thead th {\n",
       "        text-align: right;\n",
       "    }\n",
       "</style>\n",
       "<table border=\"1\" class=\"dataframe\">\n",
       "  <thead>\n",
       "    <tr style=\"text-align: right;\">\n",
       "      <th></th>\n",
       "      <th>abstract</th>\n",
       "      <th>journal</th>\n",
       "      <th>sha</th>\n",
       "      <th>full_text</th>\n",
       "    </tr>\n",
       "  </thead>\n",
       "  <tbody>\n",
       "    <tr>\n",
       "      <th>80417</th>\n",
       "      <td>clinical features cultureproven mycoplasma pne...</td>\n",
       "      <td>bmc infect dis</td>\n",
       "      <td>d1aafb70c066a2068b02786f8929fd9c900897fb</td>\n",
       "      <td>Mycoplasma pneumoniae is a common cause of up...</td>\n",
       "    </tr>\n",
       "  </tbody>\n",
       "</table>\n",
       "</div>"
      ],
      "text/plain": [
       "                                                abstract         journal  \\\n",
       "80417  clinical features cultureproven mycoplasma pne...  bmc infect dis   \n",
       "\n",
       "                                            sha  \\\n",
       "80417  d1aafb70c066a2068b02786f8929fd9c900897fb   \n",
       "\n",
       "                                               full_text  \n",
       "80417   Mycoplasma pneumoniae is a common cause of up...  "
      ]
     },
     "execution_count": 41,
     "metadata": {},
     "output_type": "execute_result"
    }
   ],
   "source": [
    "data[data.sha==\"d1aafb70c066a2068b02786f8929fd9c900897fb\"]"
   ]
  },
  {
   "cell_type": "code",
   "execution_count": 42,
   "metadata": {},
   "outputs": [],
   "source": [
    "data.drop([\"sha\"],\\\n",
    "    inplace=True,axis=1)"
   ]
  },
  {
   "cell_type": "markdown",
   "metadata": {},
   "source": [
    "Filtrado de texto"
   ]
  },
  {
   "cell_type": "code",
   "execution_count": 45,
   "metadata": {},
   "outputs": [],
   "source": [
    "import re\n",
    "\n",
    "data.full_text = data.full_text.astype(str)\n",
    "\n",
    "data['full_text'] = data['full_text'].apply(lambda x: re.sub('[^a-zA-z0-9\\s]','',x))\n",
    "data['full_text'] = data['full_text'].apply(lambda x: x.lower())\n",
    "data = data[data['full_text'].str.strip().astype(bool)]"
   ]
  },
  {
   "cell_type": "markdown",
   "metadata": {},
   "source": [
    "Borrado de stopwords"
   ]
  },
  {
   "cell_type": "code",
   "execution_count": 46,
   "metadata": {},
   "outputs": [],
   "source": [
    "def remove_stopwords(text):\n",
    "    text = ' '.join([word for word in text.split() if word not in stopwords])\n",
    "    return text\n",
    "\n",
    "data['full_text'] = data['full_text'].apply(lambda x: remove_stopwords(x))"
   ]
  },
  {
   "cell_type": "code",
   "execution_count": null,
   "metadata": {},
   "outputs": [],
   "source": [
    "print(\"Antes:\",data.abstract[0])\n",
    "\n",
    "data[\"abstract\"] = data[\"full_text\"] + \" \" + data[\"abstract\"]\n",
    "data.drop(['full_text'],inplace=True,axis=1)\n",
    "\n",
    "print(\"Después:\",data.abstract[0])"
   ]
  },
  {
   "cell_type": "code",
   "execution_count": 16,
   "metadata": {},
   "outputs": [
    {
     "name": "stdout",
     "output_type": "stream",
     "text": [
      "Palabras únicas: 1924306\n",
      "Palabras totales: 208629448\n",
      "Stopwords únicos: 1\n",
      "Stopwords totales: 0\n",
      "Palabras relevantes únicas: 1924305\n",
      "Palabras relevantes totales: 208629448\n"
     ]
    }
   ],
   "source": [
    "from collections import Counter\n",
    "\n",
    "text_full = data['abstract'].apply(lambda x: cadena(x))\n",
    "text_full_split = ' '.join(str(item) for item in text_full)\n",
    "text_full_split = list(text_full_split.split(\" \"))\n",
    "text_full_count = Counter(text_full_split)\n",
    "\n",
    "text_stopwords = data['abstract'].apply(lambda x: cadena_stopwords(x))\n",
    "text_stopwords_split = ' '.join(str(item) for item in text_stopwords)\n",
    "text_stopwords_split = list(text_stopwords_split.split(\" \"))\n",
    "text_stopwords_count = Counter(text_stopwords_split)\n",
    "\n",
    "total = 0\n",
    "total_stopwords = 0\n",
    "\n",
    "for text in data['abstract']:\n",
    "    total += conteo_total(text)\n",
    "    total_stopwords += conteo_stopwords(text)\n",
    "\n",
    "print(\"Palabras únicas:\",len(text_full_count))\n",
    "print(\"Palabras totales:\",total)\n",
    "print(\"Stopwords únicos:\",len(text_stopwords_count))\n",
    "print(\"Stopwords totales:\",total_stopwords)\n",
    "print(\"Palabras relevantes únicas:\",len(text_full_count)-len(text_stopwords_count))\n",
    "print(\"Palabras relevantes totales:\",total-total_stopwords)"
   ]
  },
  {
   "cell_type": "code",
   "execution_count": 48,
   "metadata": {},
   "outputs": [],
   "source": [
    "data.to_csv(r'..\\..\\data\\train\\data-fulltext-train-lstm.csv', index=False)"
   ]
  }
 ],
 "metadata": {
  "interpreter": {
   "hash": "be23ae5e9cab8f7d3dc053734d7c1a72c76df2b3e32c536f0ca96d686b8189c9"
  },
  "kernelspec": {
   "display_name": "Python 3.10.4 64-bit",
   "language": "python",
   "name": "python3"
  },
  "language_info": {
   "codemirror_mode": {
    "name": "ipython",
    "version": 3
   },
   "file_extension": ".py",
   "mimetype": "text/x-python",
   "name": "python",
   "nbconvert_exporter": "python",
   "pygments_lexer": "ipython3",
   "version": "3.10.4"
  },
  "orig_nbformat": 4
 },
 "nbformat": 4,
 "nbformat_minor": 2
}
