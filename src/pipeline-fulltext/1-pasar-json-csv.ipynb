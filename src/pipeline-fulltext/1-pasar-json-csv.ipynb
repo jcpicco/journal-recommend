{
 "cells": [
  {
   "cell_type": "code",
   "execution_count": 1,
   "metadata": {},
   "outputs": [],
   "source": [
    "import json\n",
    "import pandas as pd\n",
    "pd.options.mode.chained_assignment = None  # default='warn'\n",
    "import numpy as np\n",
    "from CovidArticle import CovidArticle\n",
    "import os"
   ]
  },
  {
   "cell_type": "markdown",
   "metadata": {},
   "source": [
    "Crear csv con pdf_json"
   ]
  },
  {
   "cell_type": "code",
   "execution_count": null,
   "metadata": {},
   "outputs": [],
   "source": [
    "path = \"../../data/json-files\"\n",
    "file_list = os.listdir(path)\n",
    "\n",
    "full_text = []\n",
    "paper_id = []\n",
    "\n",
    "for f in file_list:\n",
    "    file = CovidArticle(\"pdf\",f)\n",
    "\n",
    "    paper_id.append(file.id)\n",
    "    full_text.append(file.full_text)"
   ]
  },
  {
   "cell_type": "code",
   "execution_count": null,
   "metadata": {},
   "outputs": [],
   "source": [
    "df = pd.DataFrame()\n",
    "df['full_text'] = full_text\n",
    "df['sha'] = paper_id\n",
    "\n",
    "df"
   ]
  },
  {
   "cell_type": "code",
   "execution_count": null,
   "metadata": {},
   "outputs": [],
   "source": [
    "import nltk\n",
    "nltk.download('stopwords')\n",
    "from nltk.corpus import stopwords\n",
    "from collections import Counter\n",
    "\n",
    "stopwords = set(stopwords.words('english'))\n",
    "\n",
    "def conteo_total(text):\n",
    "    n = 0\n",
    "\n",
    "    for word in text.split():\n",
    "        n+=1\n",
    "\n",
    "    return n\n",
    "\n",
    "def conteo_stopwords(text):\n",
    "    n = 0\n",
    "    \n",
    "    for word in text.split():\n",
    "        if word in stopwords:\n",
    "            n+=1\n",
    "\n",
    "    return n\n",
    "\n",
    "def cadena_stopwords(text):\n",
    "    text = ' '.join([word for word in text.split() if word in stopwords])\n",
    "    return text\n",
    "\n",
    "def cadena(text):\n",
    "    text = ' '.join([word for word in text.split()])\n",
    "    return text\n",
    "\n",
    "text_full = df['full_text'].apply(lambda x: cadena(x))\n",
    "text_full_split = ' '.join(str(item) for item in text_full)\n",
    "text_full_split = list(text_full_split.split(\" \"))\n",
    "text_full_count = Counter(text_full_split)\n",
    "\n",
    "total = 0\n",
    "\n",
    "for text in df['full_text']:\n",
    "    total += conteo_total(text)\n",
    "\n",
    "print(\"Palabras únicas:\",len(text_full_count))\n",
    "print(\"Palabras totales:\",total)"
   ]
  },
  {
   "cell_type": "code",
   "execution_count": null,
   "metadata": {},
   "outputs": [],
   "source": [
    "df.to_csv(r'..\\..\\data\\docs-pdf.csv', index=False)"
   ]
  }
 ],
 "metadata": {
  "interpreter": {
   "hash": "be23ae5e9cab8f7d3dc053734d7c1a72c76df2b3e32c536f0ca96d686b8189c9"
  },
  "kernelspec": {
   "display_name": "Python 3.10.4 64-bit",
   "language": "python",
   "name": "python3"
  },
  "language_info": {
   "codemirror_mode": {
    "name": "ipython",
    "version": 3
   },
   "file_extension": ".py",
   "mimetype": "text/x-python",
   "name": "python",
   "nbconvert_exporter": "python",
   "pygments_lexer": "ipython3",
   "version": "3.10.4"
  },
  "orig_nbformat": 4
 },
 "nbformat": 4,
 "nbformat_minor": 2
}
