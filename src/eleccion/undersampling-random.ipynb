{
 "cells": [
  {
   "cell_type": "code",
   "execution_count": null,
   "metadata": {},
   "outputs": [],
   "source": [
    "import pandas as pd\n",
    "pd.options.mode.chained_assignment = None  # default='warn'\n",
    "import numpy as np\n",
    "import os\n",
    "import time\n",
    "import imblearn"
   ]
  },
  {
   "cell_type": "code",
   "execution_count": null,
   "metadata": {},
   "outputs": [],
   "source": [
    "data_train = pd.read_csv(r'..\\..\\data\\train\\data-train.csv')\n",
    "data_test = pd.read_csv(r'..\\..\\data\\test\\data-test.csv')\n",
    "\n",
    "data_train.abstract = data_train.abstract.astype(str)\n",
    "data_train.journal = data_train.journal.astype(str)\n",
    "data_test.abstract = data_test.abstract.astype(str)\n",
    "data_test.journal = data_test.journal.astype(str)"
   ]
  },
  {
   "cell_type": "code",
   "execution_count": null,
   "metadata": {},
   "outputs": [],
   "source": [
    "from sklearn.feature_extraction.text import TfidfVectorizer\n",
    "\n",
    "X_train = data_train['abstract']\n",
    "y_train = data_train['journal']\n",
    "X_test = data_test['abstract']\n",
    "y_test = data_test['journal']\n",
    "\n",
    "tfidf = TfidfVectorizer(min_df=20, max_df=0.9)\n",
    "X_train_final = tfidf.fit_transform(X_train)\n",
    "X_test_final = tfidf.transform(X_test)"
   ]
  },
  {
   "cell_type": "code",
   "execution_count": null,
   "metadata": {},
   "outputs": [],
   "source": [
    "from imblearn.under_sampling import RandomUnderSampler\n",
    "\n",
    "imb = RandomUnderSampler()\n",
    "X, Y = imb.fit_resample(X_train_final,y_train)"
   ]
  },
  {
   "cell_type": "code",
   "execution_count": null,
   "metadata": {},
   "outputs": [],
   "source": [
    "from sklearn.naive_bayes import MultinomialNB\n",
    "\n",
    "model = MultinomialNB(alpha=0.004)\n",
    "print(\"Vamos a entrenar!\")\n",
    "model.fit(X, Y)\n",
    "print(\"1. Entrenamiento terminado. Vamos a la predicción!\")"
   ]
  },
  {
   "cell_type": "code",
   "execution_count": null,
   "metadata": {},
   "outputs": [],
   "source": [
    "from sklearn.metrics import accuracy_score\n",
    "\n",
    "prediction = model.predict(X_test_final)\n",
    "print(\"2. Predicción terminada. Vamos al accuracy!\")\n",
    "accuracy_score(prediction,y_test)"
   ]
  },
  {
   "cell_type": "code",
   "execution_count": null,
   "metadata": {},
   "outputs": [],
   "source": [
    "from collections import Counter\n",
    "\n",
    "journals = Counter(Y)\n",
    "\n",
    "journals"
   ]
  }
 ],
 "metadata": {
  "interpreter": {
   "hash": "be23ae5e9cab8f7d3dc053734d7c1a72c76df2b3e32c536f0ca96d686b8189c9"
  },
  "kernelspec": {
   "display_name": "Python 3.10.4 64-bit",
   "language": "python",
   "name": "python3"
  },
  "language_info": {
   "codemirror_mode": {
    "name": "ipython",
    "version": 3
   },
   "file_extension": ".py",
   "mimetype": "text/x-python",
   "name": "python",
   "nbconvert_exporter": "python",
   "pygments_lexer": "ipython3",
   "version": "3.10.4"
  },
  "orig_nbformat": 4
 },
 "nbformat": 4,
 "nbformat_minor": 2
}
